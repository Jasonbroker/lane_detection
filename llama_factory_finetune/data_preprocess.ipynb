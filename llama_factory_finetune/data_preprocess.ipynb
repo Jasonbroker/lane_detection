{
 "cells": [
  {
   "cell_type": "markdown",
   "id": "4c53533c",
   "metadata": {},
   "source": [
    "generate data set for llama factory first. tusimple json format is:"
   ]
  },
  {
   "cell_type": "markdown",
   "id": "502d763d",
   "metadata": {},
   "source": [
    "```\n",
    "{\"raw_file\": \"clips/0531/.../20.jpg\", \"lanes\": [[-2, 500, 510, ...], [600, 610, ..., -2]], \"h_samples\": [300, 310, 320, ...]}\n",
    "```"
   ]
  },
  {
   "cell_type": "markdown",
   "id": "5a23d19f",
   "metadata": {},
   "source": [
    "```\n",
    "{\n",
    "  \"images\": [\"path/to/image.jpg\"],\n",
    "  \"messages\": [\n",
    "    {\n",
    "      \"role\": \"user\",\n",
    "      \"content\": \"<image>\\\\nDetect all lane lines. Output each lane as a list of (x, y) coordinates in JSON format.\"\n",
    "    },\n",
    "    {\n",
    "      \"role\": \"assistant\",\n",
    "      \"content\": \"{\\\\n  \\\\\\\"lanes\\\\\\\": [\\\\n    [{\\\\\\\"x\\\\\\\": 500, \\\\\\\"y\\\\\\\": 310}, {\\\\\\\"x\\\\\\\": 510, \\\\\\\"y\\\\\\\": 320}],\\\\n    ...\\\\n  ]\\\\n}\"\n",
    "    }\n",
    "  ]\n",
    "}\n",
    "```"
   ]
  },
  {
   "cell_type": "markdown",
   "id": "0100e2f9",
   "metadata": {},
   "source": [
    "转换脚本："
   ]
  },
  {
   "cell_type": "code",
   "execution_count": 1,
   "id": "efbeb284",
   "metadata": {},
   "outputs": [
    {
     "name": "stdout",
     "output_type": "stream",
     "text": [
      "✅ Saved 3626 samples to ./tusimple_llamafactory.json\n"
     ]
    }
   ],
   "source": [
    "import json\n",
    "import os\n",
    "from pathlib import Path\n",
    "\n",
    "def convert_tusimple_to_llamafactory(\n",
    "    tusimple_root: str,\n",
    "    output_json_path: str,\n",
    "    split: str = \"train\"\n",
    "):\n",
    "    label_files = []\n",
    "    if split == \"train\":\n",
    "        label_files = [\n",
    "            \"label_data_0313.json\",\n",
    "            \"label_data_0601.json\",\n",
    "            \"label_data_0531.json\"\n",
    "        ]\n",
    "    else:\n",
    "        label_files = [\"test_tasks_0627.json\"]\n",
    "\n",
    "    dataset = []\n",
    "\n",
    "    for label_file in label_files:\n",
    "        with open(os.path.join(tusimple_root, label_file), 'r') as f:\n",
    "            for line in f:\n",
    "                data = json.loads(line.strip())\n",
    "                img_path = os.path.join(tusimple_root, data[\"raw_file\"])\n",
    "                if not os.path.exists(img_path):\n",
    "                    continue\n",
    "\n",
    "                h_samples = data[\"h_samples\"]\n",
    "                lanes = data[\"lanes\"]\n",
    "\n",
    "                # 构建车道线坐标列表\n",
    "                lane_coords = []\n",
    "                for lane in lanes:\n",
    "                    coords = []\n",
    "                    for x, y in zip(lane, h_samples):\n",
    "                        if x >= 0:  # 有效点\n",
    "                            coords.append({\"x\": int(x), \"y\": int(y)})\n",
    "                    if coords:\n",
    "                        lane_coords.append(coords)\n",
    "\n",
    "                # 构造 Llama Factory 格式\n",
    "                output_dict = {\"lanes\": lane_coords}\n",
    "                output_str = json.dumps(output_dict, indent=2)\n",
    "\n",
    "                sample = {\n",
    "                    \"images\": [img_path],\n",
    "                    \"messages\": [\n",
    "                        {\n",
    "                            \"role\": \"user\",\n",
    "                            \"content\": \"<image>\\nDetect all lane lines. Output each lane as a list of (x, y) coordinates in JSON format.\"\n",
    "                        },\n",
    "                        {\n",
    "                            \"role\": \"assistant\",\n",
    "                            \"content\": output_str\n",
    "                        }\n",
    "                    ]\n",
    "                }\n",
    "                dataset.append(sample)\n",
    "\n",
    "    # 保存到本地 JSON\n",
    "    with open(output_json_path, 'w', encoding='utf-8') as f:\n",
    "        json.dump(dataset, f, indent=2, ensure_ascii=False)\n",
    "\n",
    "    print(f\"✅ Saved {len(dataset)} samples to {output_json_path}\")\n",
    "\n",
    "\n",
    "if __name__ == \"__main__\":\n",
    "    TUSIMPLE_ROOT = \"/media/zzcc/file/aigc/llm/datasets/TUSimple/train_set/\"  # 替换为你的路径\n",
    "    OUTPUT_JSON = \"./tusimple_llamafactory.json\"\n",
    "    convert_tusimple_to_llamafactory(TUSIMPLE_ROOT, OUTPUT_JSON, split=\"train\")"
   ]
  },
  {
   "cell_type": "markdown",
   "id": "97e9aab3",
   "metadata": {},
   "source": [
    "testing: preview one original image and drive lane."
   ]
  },
  {
   "cell_type": "code",
   "execution_count": null,
   "id": "0f073888",
   "metadata": {},
   "outputs": [
    {
     "name": "stdout",
     "output_type": "stream",
     "text": [
      "{\n",
      "  \"images\": [\n",
      "    \"/media/zzcc/file/aigc/llm/datasets/TUSimple/train_set/clips/0313-1/6040/20.jpg\"\n",
      "  ],\n",
      "  \"messages\": [\n",
      "    {\n",
      "      \"role\": \"user\",\n",
      "      \"content\": \"<image>\\nDetect all lane lines. Output each lane as a list of (x, y) coordinates in JSON format.\"\n",
      "    },\n",
      "    {\n",
      "      \"role\": \"assistant\",\n",
      "      \"content\": \"{\\n  \\\"lanes\\\": [\\n    [\\n      {\\n        \\\"x\\\": 632,\\n        \\\"y\\\": 280\\n      },\\n      {\\n        \\\"x\\\": 625,\\n        \\\"y\\\": 290\\n      },\\n      {\\n        \\\"x\\\": 617,\\n        \\\"y\\\": 300\\n      },\\n      {\\n        \\\"x\\\": 609,\\n        \\\"y\\\": 310\\n      },\\n      {\\n        \\\"x\\\": 601,\\n        \\\"y\\\": 320\\n      },\\n      {\\n        \\\"x\\\": 594,\\n        \\\"y\\\": 330\\n      },\\n      {\\n        \\\"x\\\": 586,\\n        \\\"y\\\": 340\\n      },\\n      {\\n        \\\"x\\\": 578,\\n        \\\"y\\\": 350\\n      },\\n      {\\n        \\\"x\\\": 570,\\n        \\\"y\\\": 360\\n      },\\n      {\\n        \\\"x\\\": 563,\\n        \\\"y\\\": 370\\n      },\\n      {\\n        \\\"x\\\": 555,\\n        \\\"y\\\": 380\\n      },\\n      {\\n        \\\"x\\\": 547,\\n        \\\"y\\\": 390\\n      },\\n      {\\n        \\\"x\\\": 539,\\n        \\\"y\\\": 400\\n      },\\n      {\\n        \\\"x\\\": 532,\\n        \\\"y\\\": 410\\n      },\\n      {\\n        \\\"x\\\": 524,\\n        \\\"y\\\": 420\\n      },\\n      {\\n        \\\"x\\\": 516,\\n        \\\"y\\\": 430\\n      },\\n      {\\n        \\\"x\\\": 508,\\n        \\\"y\\\": 440\\n      },\\n      {\\n        \\\"x\\\": 501,\\n        \\\"y\\\": 450\\n      },\\n      {\\n        \\\"x\\\": 493,\\n        \\\"y\\\": 460\\n      },\\n      {\\n        \\\"x\\\": 485,\\n        \\\"y\\\": 470\\n      },\\n      {\\n        \\\"x\\\": 477,\\n        \\\"y\\\": 480\\n      },\\n      {\\n        \\\"x\\\": 469,\\n        \\\"y\\\": 490\\n      },\\n      {\\n        \\\"x\\\": 462,\\n        \\\"y\\\": 500\\n      },\\n      {\\n        \\\"x\\\": 454,\\n        \\\"y\\\": 510\\n      },\\n      {\\n        \\\"x\\\": 446,\\n        \\\"y\\\": 520\\n      },\\n      {\\n        \\\"x\\\": 438,\\n        \\\"y\\\": 530\\n      },\\n      {\\n        \\\"x\\\": 431,\\n        \\\"y\\\": 540\\n      },\\n      {\\n        \\\"x\\\": 423,\\n        \\\"y\\\": 550\\n      },\\n      {\\n        \\\"x\\\": 415,\\n        \\\"y\\\": 560\\n      },\\n      {\\n        \\\"x\\\": 407,\\n        \\\"y\\\": 570\\n      },\\n      {\\n        \\\"x\\\": 400,\\n        \\\"y\\\": 580\\n      },\\n      {\\n        \\\"x\\\": 392,\\n        \\\"y\\\": 590\\n      },\\n      {\\n        \\\"x\\\": 384,\\n        \\\"y\\\": 600\\n      },\\n      {\\n        \\\"x\\\": 376,\\n        \\\"y\\\": 610\\n      },\\n      {\\n        \\\"x\\\": 369,\\n        \\\"y\\\": 620\\n      },\\n      {\\n        \\\"x\\\": 361,\\n        \\\"y\\\": 630\\n      },\\n      {\\n        \\\"x\\\": 353,\\n        \\\"y\\\": 640\\n      },\\n      {\\n        \\\"x\\\": 345,\\n        \\\"y\\\": 650\\n      },\\n      {\\n        \\\"x\\\": 338,\\n        \\\"y\\\": 660\\n      },\\n      {\\n        \\\"x\\\": 330,\\n        \\\"y\\\": 670\\n      },\\n      {\\n        \\\"x\\\": 322,\\n        \\\"y\\\": 680\\n      },\\n      {\\n        \\\"x\\\": 314,\\n        \\\"y\\\": 690\\n      },\\n      {\\n        \\\"x\\\": 307,\\n        \\\"y\\\": 700\\n      },\\n      {\\n        \\\"x\\\": 299,\\n        \\\"y\\\": 710\\n      }\\n    ],\\n    [\\n      {\\n        \\\"x\\\": 719,\\n        \\\"y\\\": 280\\n      },\\n      {\\n        \\\"x\\\": 734,\\n        \\\"y\\\": 290\\n      },\\n      {\\n        \\\"x\\\": 748,\\n        \\\"y\\\": 300\\n      },\\n      {\\n        \\\"x\\\": 762,\\n        \\\"y\\\": 310\\n      },\\n      {\\n        \\\"x\\\": 777,\\n        \\\"y\\\": 320\\n      },\\n      {\\n        \\\"x\\\": 791,\\n        \\\"y\\\": 330\\n      },\\n      {\\n        \\\"x\\\": 805,\\n        \\\"y\\\": 340\\n      },\\n      {\\n        \\\"x\\\": 820,\\n        \\\"y\\\": 350\\n      },\\n      {\\n        \\\"x\\\": 834,\\n        \\\"y\\\": 360\\n      },\\n      {\\n        \\\"x\\\": 848,\\n        \\\"y\\\": 370\\n      },\\n      {\\n        \\\"x\\\": 863,\\n        \\\"y\\\": 380\\n      },\\n      {\\n        \\\"x\\\": 877,\\n        \\\"y\\\": 390\\n      },\\n      {\\n        \\\"x\\\": 891,\\n        \\\"y\\\": 400\\n      },\\n      {\\n        \\\"x\\\": 906,\\n        \\\"y\\\": 410\\n      },\\n      {\\n        \\\"x\\\": 920,\\n        \\\"y\\\": 420\\n      },\\n      {\\n        \\\"x\\\": 934,\\n        \\\"y\\\": 430\\n      },\\n      {\\n        \\\"x\\\": 949,\\n        \\\"y\\\": 440\\n      },\\n      {\\n        \\\"x\\\": 963,\\n        \\\"y\\\": 450\\n      },\\n      {\\n        \\\"x\\\": 978,\\n        \\\"y\\\": 460\\n      },\\n      {\\n        \\\"x\\\": 992,\\n        \\\"y\\\": 470\\n      },\\n      {\\n        \\\"x\\\": 1006,\\n        \\\"y\\\": 480\\n      },\\n      {\\n        \\\"x\\\": 1021,\\n        \\\"y\\\": 490\\n      },\\n      {\\n        \\\"x\\\": 1035,\\n        \\\"y\\\": 500\\n      },\\n      {\\n        \\\"x\\\": 1049,\\n        \\\"y\\\": 510\\n      },\\n      {\\n        \\\"x\\\": 1064,\\n        \\\"y\\\": 520\\n      },\\n      {\\n        \\\"x\\\": 1078,\\n        \\\"y\\\": 530\\n      },\\n      {\\n        \\\"x\\\": 1092,\\n        \\\"y\\\": 540\\n      },\\n      {\\n        \\\"x\\\": 1107,\\n        \\\"y\\\": 550\\n      },\\n      {\\n        \\\"x\\\": 1121,\\n        \\\"y\\\": 560\\n      },\\n      {\\n        \\\"x\\\": 1135,\\n        \\\"y\\\": 570\\n      },\\n      {\\n        \\\"x\\\": 1150,\\n        \\\"y\\\": 580\\n      },\\n      {\\n        \\\"x\\\": 1164,\\n        \\\"y\\\": 590\\n      },\\n      {\\n        \\\"x\\\": 1178,\\n        \\\"y\\\": 600\\n      },\\n      {\\n        \\\"x\\\": 1193,\\n        \\\"y\\\": 610\\n      },\\n      {\\n        \\\"x\\\": 1207,\\n        \\\"y\\\": 620\\n      },\\n      {\\n        \\\"x\\\": 1221,\\n        \\\"y\\\": 630\\n      },\\n      {\\n        \\\"x\\\": 1236,\\n        \\\"y\\\": 640\\n      },\\n      {\\n        \\\"x\\\": 1250,\\n        \\\"y\\\": 650\\n      },\\n      {\\n        \\\"x\\\": 1265,\\n        \\\"y\\\": 660\\n      }\\n    ],\\n    [\\n      {\\n        \\\"x\\\": 532,\\n        \\\"y\\\": 290\\n      },\\n      {\\n        \\\"x\\\": 503,\\n        \\\"y\\\": 300\\n      },\\n      {\\n        \\\"x\\\": 474,\\n        \\\"y\\\": 310\\n      },\\n      {\\n        \\\"x\\\": 445,\\n        \\\"y\\\": 320\\n      },\\n      {\\n        \\\"x\\\": 416,\\n        \\\"y\\\": 330\\n      },\\n      {\\n        \\\"x\\\": 387,\\n        \\\"y\\\": 340\\n      },\\n      {\\n        \\\"x\\\": 358,\\n        \\\"y\\\": 350\\n      },\\n      {\\n        \\\"x\\\": 329,\\n        \\\"y\\\": 360\\n      },\\n      {\\n        \\\"x\\\": 300,\\n        \\\"y\\\": 370\\n      },\\n      {\\n        \\\"x\\\": 271,\\n        \\\"y\\\": 380\\n      },\\n      {\\n        \\\"x\\\": 241,\\n        \\\"y\\\": 390\\n      },\\n      {\\n        \\\"x\\\": 212,\\n        \\\"y\\\": 400\\n      },\\n      {\\n        \\\"x\\\": 183,\\n        \\\"y\\\": 410\\n      },\\n      {\\n        \\\"x\\\": 154,\\n        \\\"y\\\": 420\\n      },\\n      {\\n        \\\"x\\\": 125,\\n        \\\"y\\\": 430\\n      },\\n      {\\n        \\\"x\\\": 96,\\n        \\\"y\\\": 440\\n      },\\n      {\\n        \\\"x\\\": 67,\\n        \\\"y\\\": 450\\n      },\\n      {\\n        \\\"x\\\": 38,\\n        \\\"y\\\": 460\\n      },\\n      {\\n        \\\"x\\\": 9,\\n        \\\"y\\\": 470\\n      }\\n    ],\\n    [\\n      {\\n        \\\"x\\\": 781,\\n        \\\"y\\\": 270\\n      },\\n      {\\n        \\\"x\\\": 822,\\n        \\\"y\\\": 280\\n      },\\n      {\\n        \\\"x\\\": 862,\\n        \\\"y\\\": 290\\n      },\\n      {\\n        \\\"x\\\": 903,\\n        \\\"y\\\": 300\\n      },\\n      {\\n        \\\"x\\\": 944,\\n        \\\"y\\\": 310\\n      },\\n      {\\n        \\\"x\\\": 984,\\n        \\\"y\\\": 320\\n      },\\n      {\\n        \\\"x\\\": 1025,\\n        \\\"y\\\": 330\\n      },\\n      {\\n        \\\"x\\\": 1066,\\n        \\\"y\\\": 340\\n      },\\n      {\\n        \\\"x\\\": 1107,\\n        \\\"y\\\": 350\\n      },\\n      {\\n        \\\"x\\\": 1147,\\n        \\\"y\\\": 360\\n      },\\n      {\\n        \\\"x\\\": 1188,\\n        \\\"y\\\": 370\\n      },\\n      {\\n        \\\"x\\\": 1229,\\n        \\\"y\\\": 380\\n      },\\n      {\\n        \\\"x\\\": 1269,\\n        \\\"y\\\": 390\\n      }\\n    ]\\n  ]\\n}\"\n",
      "    }\n",
      "  ]\n",
      "}\n",
      "[[{'x': 632, 'y': 280}, {'x': 625, 'y': 290}, {'x': 617, 'y': 300}, {'x': 609, 'y': 310}, {'x': 601, 'y': 320}, {'x': 594, 'y': 330}, {'x': 586, 'y': 340}, {'x': 578, 'y': 350}, {'x': 570, 'y': 360}, {'x': 563, 'y': 370}, {'x': 555, 'y': 380}, {'x': 547, 'y': 390}, {'x': 539, 'y': 400}, {'x': 532, 'y': 410}, {'x': 524, 'y': 420}, {'x': 516, 'y': 430}, {'x': 508, 'y': 440}, {'x': 501, 'y': 450}, {'x': 493, 'y': 460}, {'x': 485, 'y': 470}, {'x': 477, 'y': 480}, {'x': 469, 'y': 490}, {'x': 462, 'y': 500}, {'x': 454, 'y': 510}, {'x': 446, 'y': 520}, {'x': 438, 'y': 530}, {'x': 431, 'y': 540}, {'x': 423, 'y': 550}, {'x': 415, 'y': 560}, {'x': 407, 'y': 570}, {'x': 400, 'y': 580}, {'x': 392, 'y': 590}, {'x': 384, 'y': 600}, {'x': 376, 'y': 610}, {'x': 369, 'y': 620}, {'x': 361, 'y': 630}, {'x': 353, 'y': 640}, {'x': 345, 'y': 650}, {'x': 338, 'y': 660}, {'x': 330, 'y': 670}, {'x': 322, 'y': 680}, {'x': 314, 'y': 690}, {'x': 307, 'y': 700}, {'x': 299, 'y': 710}], [{'x': 719, 'y': 280}, {'x': 734, 'y': 290}, {'x': 748, 'y': 300}, {'x': 762, 'y': 310}, {'x': 777, 'y': 320}, {'x': 791, 'y': 330}, {'x': 805, 'y': 340}, {'x': 820, 'y': 350}, {'x': 834, 'y': 360}, {'x': 848, 'y': 370}, {'x': 863, 'y': 380}, {'x': 877, 'y': 390}, {'x': 891, 'y': 400}, {'x': 906, 'y': 410}, {'x': 920, 'y': 420}, {'x': 934, 'y': 430}, {'x': 949, 'y': 440}, {'x': 963, 'y': 450}, {'x': 978, 'y': 460}, {'x': 992, 'y': 470}, {'x': 1006, 'y': 480}, {'x': 1021, 'y': 490}, {'x': 1035, 'y': 500}, {'x': 1049, 'y': 510}, {'x': 1064, 'y': 520}, {'x': 1078, 'y': 530}, {'x': 1092, 'y': 540}, {'x': 1107, 'y': 550}, {'x': 1121, 'y': 560}, {'x': 1135, 'y': 570}, {'x': 1150, 'y': 580}, {'x': 1164, 'y': 590}, {'x': 1178, 'y': 600}, {'x': 1193, 'y': 610}, {'x': 1207, 'y': 620}, {'x': 1221, 'y': 630}, {'x': 1236, 'y': 640}, {'x': 1250, 'y': 650}, {'x': 1265, 'y': 660}], [{'x': 532, 'y': 290}, {'x': 503, 'y': 300}, {'x': 474, 'y': 310}, {'x': 445, 'y': 320}, {'x': 416, 'y': 330}, {'x': 387, 'y': 340}, {'x': 358, 'y': 350}, {'x': 329, 'y': 360}, {'x': 300, 'y': 370}, {'x': 271, 'y': 380}, {'x': 241, 'y': 390}, {'x': 212, 'y': 400}, {'x': 183, 'y': 410}, {'x': 154, 'y': 420}, {'x': 125, 'y': 430}, {'x': 96, 'y': 440}, {'x': 67, 'y': 450}, {'x': 38, 'y': 460}, {'x': 9, 'y': 470}], [{'x': 781, 'y': 270}, {'x': 822, 'y': 280}, {'x': 862, 'y': 290}, {'x': 903, 'y': 300}, {'x': 944, 'y': 310}, {'x': 984, 'y': 320}, {'x': 1025, 'y': 330}, {'x': 1066, 'y': 340}, {'x': 1107, 'y': 350}, {'x': 1147, 'y': 360}, {'x': 1188, 'y': 370}, {'x': 1229, 'y': 380}, {'x': 1269, 'y': 390}]]\n"
     ]
    },
    {
     "ename": "KeyboardInterrupt",
     "evalue": "",
     "output_type": "error",
     "traceback": [
      "\u001b[31m---------------------------------------------------------------------------\u001b[39m",
      "\u001b[31mKeyboardInterrupt\u001b[39m                         Traceback (most recent call last)",
      "\u001b[36mCell\u001b[39m\u001b[36m \u001b[39m\u001b[32mIn[9]\u001b[39m\u001b[32m, line 22\u001b[39m\n\u001b[32m     19\u001b[39m         cv2.putText(image, text, (x + \u001b[32m10\u001b[39m, y - \u001b[32m10\u001b[39m), cv2.FONT_HERSHEY_SIMPLEX, \u001b[32m0.3\u001b[39m, (\u001b[32m0\u001b[39m, \u001b[32m255\u001b[39m, \u001b[32m0\u001b[39m), \u001b[32m1\u001b[39m)  \u001b[38;5;66;03m# 绿色文字\u001b[39;00m\n\u001b[32m     21\u001b[39m cv2.imshow(\u001b[33m'\u001b[39m\u001b[33mimage\u001b[39m\u001b[33m'\u001b[39m, image)\n\u001b[32m---> \u001b[39m\u001b[32m22\u001b[39m \u001b[43mcv2\u001b[49m\u001b[43m.\u001b[49m\u001b[43mwaitKey\u001b[49m\u001b[43m(\u001b[49m\u001b[32;43m0\u001b[39;49m\u001b[43m)\u001b[49m\n",
      "\u001b[31mKeyboardInterrupt\u001b[39m: "
     ]
    }
   ],
   "source": [
    "with open(OUTPUT_JSON, 'r', encoding='utf-8') as f:\n",
    "    data = json.load(f)\n",
    "first_obj = data[0]\n",
    "#print(json.dumps(first_obj, indent=2, ensure_ascii=False))\n",
    "\n",
    "# read image \n",
    "import cv2\n",
    "image = cv2.imread(first_obj['images'][0])\n",
    "\n",
    "extracted_lanes = json.loads(first_obj['messages'][1]['content'])['lanes']\n",
    "#print(extracted_lanes)\n",
    "for lane in extracted_lanes:\n",
    "    for point in lane:\n",
    "        cv2.circle(image, (point['x'], point['y']), 3, (0, 0, 255), -1)\n",
    "        # 在点旁边添加坐标文本\n",
    "        x = point['x']\n",
    "        y = point['y']\n",
    "        text = f'({x},{y})'\n",
    "        cv2.putText(image, text, (x + 10, y - 10), cv2.FONT_HERSHEY_SIMPLEX, 0.3, (0, 255, 0), 1)  # 绿色文字\n",
    "\n",
    "cv2.imshow('image', image)\n",
    "cv2.waitKey(0)\n"
   ]
  },
  {
   "cell_type": "markdown",
   "id": "06ce8883",
   "metadata": {},
   "source": [
    "move tusimple_llamafactory.json to llma factory dir"
   ]
  },
  {
   "cell_type": "code",
   "execution_count": 17,
   "id": "fda2229b",
   "metadata": {},
   "outputs": [],
   "source": [
    "LLaMA_Factory_DIR = \"/media/zzcc/file/aigc/llm/LLaMA-Factory\"\n",
    "!cp tusimple_llamafactory.json $LLaMA_Factory_DIR/data"
   ]
  },
  {
   "cell_type": "markdown",
   "id": "f461041a",
   "metadata": {},
   "source": [
    "revise data info"
   ]
  },
  {
   "cell_type": "code",
   "execution_count": 18,
   "id": "5a2c817f",
   "metadata": {},
   "outputs": [],
   "source": [
    "# backup old json\n",
    "!cp $LLaMA_Factory_DIR/data/dataset_info.json $LLaMA_Factory_DIR/data/dataset_info.json.bk"
   ]
  },
  {
   "cell_type": "markdown",
   "id": "becdf638",
   "metadata": {},
   "source": [
    "revise data info and add a new tusimple_llamafactory.json"
   ]
  },
  {
   "cell_type": "code",
   "execution_count": 21,
   "id": "754a1efe",
   "metadata": {},
   "outputs": [],
   "source": [
    "data_path = os.path.join(LLaMA_Factory_DIR, 'data/dataset_info.json')\n",
    "with open(data_path, 'r', encoding='utf-8') as f:\n",
    "    data = json.load(f)\n",
    "    data['tusimple_llamafactory'] = {\n",
    "        \"file_name\": \"tusimple_llamafactory.json\",\n",
    "        \"formatting\": \"sharegpt\",\n",
    "        \"columns\": {\n",
    "        \"messages\": \"messages\",\n",
    "        \"images\": \"images\"\n",
    "        },\n",
    "        \"tags\": {\n",
    "        \"role_tag\": \"role\",\n",
    "        \"content_tag\": \"content\",\n",
    "        \"user_tag\": \"user\",\n",
    "        \"assistant_tag\": \"assistant\"\n",
    "        }\n",
    "    }\n",
    "\n",
    "with open(data_path, 'w', encoding='utf-8') as f:\n",
    "    json.dump(data, f, indent=2, ensure_ascii=False)\n"
   ]
  },
  {
   "cell_type": "markdown",
   "id": "8c256657",
   "metadata": {},
   "source": [
    "training params"
   ]
  },
  {
   "cell_type": "code",
   "execution_count": null,
   "id": "3aa005e4",
   "metadata": {},
   "outputs": [],
   "source": [
    "llamafactory-cli train \\\n",
    "    --stage sft \\\n",
    "    --do_train True \\\n",
    "    --model_name_or_path /media/zzcc/file/aigc/llm/models/Qwen/Qwen2___5-VL-7B-Instruct/ \\\n",
    "    --preprocessing_num_workers 16 \\\n",
    "    --finetuning_type lora \\\n",
    "    --template qwen2_vl \\\n",
    "    --flash_attn auto \\\n",
    "    --dataset_dir data \\\n",
    "    --dataset tusimple_llamafactory \\\n",
    "    --cutoff_len 2048 \\\n",
    "    --learning_rate 5e-05 \\\n",
    "    --num_train_epochs 3.0 \\\n",
    "    --max_samples 100000 \\\n",
    "    --per_device_train_batch_size 2 \\\n",
    "    --gradient_accumulation_steps 8 \\\n",
    "    --lr_scheduler_type cosine \\\n",
    "    --max_grad_norm 1.0 \\\n",
    "    --logging_steps 5 \\\n",
    "    --save_steps 100 \\\n",
    "    --warmup_steps 0 \\\n",
    "    --packing False \\\n",
    "    --enable_thinking True \\\n",
    "    --report_to none \\\n",
    "    --output_dir saves/Qwen2.5-VL-7B-Instruct/lora/train_2025-10-08-20-31-15 \\\n",
    "    --bf16 True \\\n",
    "    --plot_loss True \\\n",
    "    --trust_remote_code True \\\n",
    "    --ddp_timeout 180000000 \\\n",
    "    --include_num_input_tokens_seen True \\\n",
    "    --optim adamw_torch \\\n",
    "    --lora_rank 8 \\\n",
    "    --lora_alpha 16 \\\n",
    "    --lora_dropout 0 \\\n",
    "    --lora_target all \\\n",
    "    --freeze_vision_tower True \\\n",
    "    --freeze_multi_modal_projector True \\\n",
    "    --image_max_pixels 589824 \\\n",
    "    --image_min_pixels 1024 \\\n",
    "    --video_max_pixels 65536 \\"
   ]
  }
 ],
 "metadata": {
  "kernelspec": {
   "display_name": ".venv",
   "language": "python",
   "name": "python3"
  },
  "language_info": {
   "codemirror_mode": {
    "name": "ipython",
    "version": 3
   },
   "file_extension": ".py",
   "mimetype": "text/x-python",
   "name": "python",
   "nbconvert_exporter": "python",
   "pygments_lexer": "ipython3",
   "version": "3.12.3"
  }
 },
 "nbformat": 4,
 "nbformat_minor": 5
}
